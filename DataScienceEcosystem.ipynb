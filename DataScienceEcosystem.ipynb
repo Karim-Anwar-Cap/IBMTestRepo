{
  "nbformat": 4,
  "nbformat_minor": 0,
  "metadata": {
    "colab": {
      "provenance": [],
      "authorship_tag": "ABX9TyPlId1S/iabAPLrHu8TMBdd",
      "include_colab_link": true
    },
    "kernelspec": {
      "name": "python3",
      "display_name": "Python 3"
    },
    "language_info": {
      "name": "python"
    }
  },
  "cells": [
    {
      "cell_type": "markdown",
      "metadata": {
        "id": "view-in-github",
        "colab_type": "text"
      },
      "source": [
        "<a href=\"https://colab.research.google.com/github/Karim-Anwar-Cap/IBMTestRepo/blob/main/DataScienceEcosystem.ipynb\" target=\"_parent\"><img src=\"https://colab.research.google.com/assets/colab-badge.svg\" alt=\"Open In Colab\"/></a>"
      ]
    },
    {
      "cell_type": "markdown",
      "source": [
        "#Data Science Tools and Ecosystem\n"
      ],
      "metadata": {
        "id": "ZHTtP4_P_tO7"
      }
    },
    {
      "cell_type": "markdown",
      "source": [
        "In this notebook, Data Science Tools and Ecosystem are summarized"
      ],
      "metadata": {
        "id": "kyUzYQHS_7Vm"
      }
    },
    {
      "cell_type": "markdown",
      "source": [
        "Some of the popular languages that Scientists use are:\n",
        "\n",
        "\n",
        "1. Python\n",
        "2. Scala\n",
        "3. R\n",
        "\n",
        "\n",
        "\n",
        "\n",
        "\n"
      ],
      "metadata": {
        "id": "c8k1dEUgAEV-"
      }
    },
    {
      "cell_type": "markdown",
      "source": [
        "Some of the commonly used libraries used librarires used by Data Scientists include\n",
        "\n",
        "1. Pandas\n",
        "2. Numpy\n",
        "3. Tensorflow"
      ],
      "metadata": {
        "id": "pbFV4qtRAV1w"
      }
    },
    {
      "cell_type": "markdown",
      "source": [
        "| Data Science Tools|\n",
        "----\n",
        "|Jupyter Notebook|\n",
        "|RStudio|\n",
        "|GitHUB|"
      ],
      "metadata": {
        "id": "L8O_juNdAsKg"
      }
    },
    {
      "cell_type": "markdown",
      "source": [
        "###Below are a few examples of evaluating arithmetic expressions in Python"
      ],
      "metadata": {
        "id": "VHPaj1kzBJGi"
      }
    },
    {
      "cell_type": "code",
      "source": [
        "# This a simple arithmetic expression to multiply then add integers\n",
        "(3*4)+5"
      ],
      "metadata": {
        "colab": {
          "base_uri": "https://localhost:8080/"
        },
        "id": "KtTrvJ9aBa-K",
        "outputId": "21746e5c-ac23-4b24-a644-5b0080c276e6"
      },
      "execution_count": 2,
      "outputs": [
        {
          "output_type": "execute_result",
          "data": {
            "text/plain": [
              "17"
            ]
          },
          "metadata": {},
          "execution_count": 2
        }
      ]
    },
    {
      "cell_type": "code",
      "source": [
        "# This will convert 200 minutes to hours by dividing by 60\n",
        "200/60"
      ],
      "metadata": {
        "colab": {
          "base_uri": "https://localhost:8080/"
        },
        "id": "mxH1tAMyBh8j",
        "outputId": "517ecdd9-7c30-4c98-c859-ab333a6826d7"
      },
      "execution_count": 3,
      "outputs": [
        {
          "output_type": "execute_result",
          "data": {
            "text/plain": [
              "3.3333333333333335"
            ]
          },
          "metadata": {},
          "execution_count": 3
        }
      ]
    },
    {
      "cell_type": "markdown",
      "source": [
        "**Objectives:**\n",
        "* We learned how to write diffrent sections\n",
        "* We also learned how to make table and write in diffrent fotns in markdown\n",
        "* Additionaly we wrote code and arithmetic in code cells\n"
      ],
      "metadata": {
        "id": "WyUxwSJNCHZT"
      }
    },
    {
      "cell_type": "markdown",
      "source": [
        "##Author\n",
        "Karim Anwar"
      ],
      "metadata": {
        "id": "vGbK-8b4CqFv"
      }
    },
    {
      "cell_type": "code",
      "source": [],
      "metadata": {
        "id": "C83tdkCvCCLN"
      },
      "execution_count": null,
      "outputs": []
    }
  ]
}